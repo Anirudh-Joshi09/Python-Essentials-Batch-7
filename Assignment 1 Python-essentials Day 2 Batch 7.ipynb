{
 "cells": [
  {
   "cell_type": "markdown",
   "metadata": {},
   "source": [
    "# Questions 1 List and its default functions. "
   ]
  },
  {
   "cell_type": "code",
   "execution_count": 1,
   "metadata": {},
   "outputs": [
    {
     "name": "stdout",
     "output_type": "stream",
     "text": [
      "using append function and adding 9\n",
      "None\n",
      "[1, 2, 3, 4, 5, 6, 7, 8, 9]\n",
      "using insert function and adding 7 at s(1) index\n",
      "None\n",
      "[1, 7, 2, 3, 4, 5, 6, 7, 8, 9]\n",
      "using remove function and removing 2\n",
      "None\n",
      "[1, 7, 3, 4, 5, 6, 7, 8, 9]\n",
      "using pop function and ruling out the value at s(1) position\n",
      "7\n",
      "[1, 3, 4, 5, 6, 7, 8, 9]\n",
      "using clear function to print empty list\n",
      "None\n",
      "[]\n"
     ]
    }
   ],
   "source": [
    "s=[1,2,3,4,5,6,7,8]\n",
    "print(\"using append function and adding 9\")\n",
    "print(s.append(9)) #first function\n",
    "print(s)\n",
    "print(\"using insert function and adding 7 at s(1) index\")\n",
    "print(s.insert(1,7)) #second function\n",
    "print(s)\n",
    "print(\"using remove function and removing 2\")\n",
    "print(s.remove(2)) #third function\n",
    "print(s)\n",
    "print(\"using pop function and ruling out the value at s(1) position\")\n",
    "print(s.pop(1)) #fourth function\n",
    "print(s)\n",
    "print(\"using clear function to print empty list\")\n",
    "print(s.clear()) # fifth function\n",
    "print(s)"
   ]
  },
  {
   "cell_type": "markdown",
   "metadata": {},
   "source": [
    "# Questions 2 Dictionary and its default functions. "
   ]
  },
  {
   "cell_type": "code",
   "execution_count": 2,
   "metadata": {},
   "outputs": [
    {
     "name": "stdout",
     "output_type": "stream",
     "text": [
      "d\n",
      "{1: 'a', 2: 'b', 3: 'c', 5: 'e'}\n",
      "None\n",
      "{1: 'a', 2: 'b', 3: 'c', 5: 'e', 8: 'g'}\n",
      "dict_keys([1, 2, 3, 5, 8])\n",
      "dict_values(['a', 'b', 'c', 'e', 'g'])\n",
      "(8, 'g')\n",
      "{1: 'a', 2: 'b', 3: 'c', 5: 'e'}\n"
     ]
    }
   ],
   "source": [
    "a={1:\"a\",2:\"b\",3:\"c\",4:\"d\",5:\"e\"}\n",
    "print(a.pop(4)) #First function\n",
    "print(a)\n",
    "print(a.update({8:\"g\"})) #Second function\n",
    "print(a)\n",
    "print(a.keys()) #Third function\n",
    "print(a.values()) #Fourth function\n",
    "print(a.popitem()) #Fifth function\n",
    "print(a)"
   ]
  },
  {
   "cell_type": "markdown",
   "metadata": {},
   "source": [
    "# Questions 3 Sets and its default functions. "
   ]
  },
  {
   "cell_type": "code",
   "execution_count": 3,
   "metadata": {},
   "outputs": [
    {
     "name": "stdout",
     "output_type": "stream",
     "text": [
      "{'cherry', 'banana'}\n",
      "{'apple'}\n",
      "{'apple', 'banana', 'microsoft', 'cherry', 'google'}\n",
      "{1, 'c', 2, 3, 'a', 'b'}\n",
      "{'cherry', 'banana'}\n"
     ]
    }
   ],
   "source": [
    "x = {\"apple\", \"banana\", \"cherry\"}\n",
    "y = {\"google\", \"microsoft\", \"apple\"}\n",
    "z = x.difference(y) #First function\n",
    "print(z)\n",
    "t = x.intersection(y) #Second function\n",
    "print(t)\n",
    "u=x.union(y) #Third function\n",
    "print(u)\n",
    "set1 = {\"a\", \"b\" , \"c\"}\n",
    "set2 = {1, 2, 3}\n",
    "set1.update(set2) #Fourth function\n",
    "print(set1)\n",
    "fruits = {\"apple\", \"banana\", \"cherry\"}\n",
    "fruits.pop() #Fifth function\n",
    "print(fruits)"
   ]
  },
  {
   "cell_type": "markdown",
   "metadata": {},
   "source": [
    "# Questions 4 Tuple and explore default methods. "
   ]
  },
  {
   "cell_type": "code",
   "execution_count": 4,
   "metadata": {},
   "outputs": [
    {
     "name": "stdout",
     "output_type": "stream",
     "text": [
      "2\n",
      "3\n"
     ]
    }
   ],
   "source": [
    "thistuple = (1, 3, 7, 8, 7, 5, 4, 6, 8, 5)\n",
    "\n",
    "x = thistuple.count(5)\n",
    "print(x)\n",
    "x = thistuple.index(8)\n",
    "print(x)"
   ]
  },
  {
   "cell_type": "markdown",
   "metadata": {},
   "source": [
    "# Questions 5 Strings and explore default methods. \n",
    " "
   ]
  },
  {
   "cell_type": "code",
   "execution_count": 5,
   "metadata": {},
   "outputs": [
    {
     "name": "stdout",
     "output_type": "stream",
     "text": [
      "ABCD\n",
      "abcd\n",
      "Hello123\n",
      "HELLO123\n",
      "2\n"
     ]
    }
   ],
   "source": [
    "t=\"aBcD\"\n",
    "u=\"hello123\"\n",
    "print(t.upper()) #First function\n",
    "print(t.lower()) #Second function\n",
    "print(u.title()) #Third function\n",
    "print(u.swapcase()) #Fourth function\n",
    "print(u.count(\"l\")) #Fifth function"
   ]
  },
  {
   "cell_type": "code",
   "execution_count": null,
   "metadata": {},
   "outputs": [],
   "source": []
  }
 ],
 "metadata": {
  "kernelspec": {
   "display_name": "Python 3",
   "language": "python",
   "name": "python3"
  },
  "language_info": {
   "codemirror_mode": {
    "name": "ipython",
    "version": 3
   },
   "file_extension": ".py",
   "mimetype": "text/x-python",
   "name": "python",
   "nbconvert_exporter": "python",
   "pygments_lexer": "ipython3",
   "version": "3.8.3"
  }
 },
 "nbformat": 4,
 "nbformat_minor": 4
}
